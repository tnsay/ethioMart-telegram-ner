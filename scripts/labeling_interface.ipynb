{
 "cells": [
  {
   "cell_type": "code",
   "execution_count": null,
   "id": "04e9fded",
   "metadata": {},
   "outputs": [
    {
     "data": {
      "application/vnd.jupyter.widget-view+json": {
       "model_id": "6f21e5ca31b74985806899b7df686c8a",
       "version_major": 2,
       "version_minor": 0
      },
      "text/plain": [
       "Textarea(value='', description='Message:', layout=Layout(height='100px', width='100%'), placeholder='Paste Amh…"
      ]
     },
     "metadata": {},
     "output_type": "display_data"
    },
    {
     "data": {
      "application/vnd.jupyter.widget-view+json": {
       "model_id": "2c95eb37be18492f82aacb5c2f258b14",
       "version_major": 2,
       "version_minor": 0
      },
      "text/plain": [
       "Output()"
      ]
     },
     "metadata": {},
     "output_type": "display_data"
    }
   ],
   "source": [
    "from IPython.display import display, clear_output\n",
    "import ipywidgets as widgets\n",
    "import os\n",
    "\n",
    "# Labeling options\n",
    "label_options = [\n",
    "    'O', 'B-Product', 'I-Product', 'B-PRICE', 'I-PRICE', 'B-LOC', 'I-LOC', 'CONTACT_INFO'\n",
    "]\n",
    "\n",
    "# Widget to paste or type message\n",
    "text_input = widgets.Textarea(\n",
    "    placeholder='Paste Amharic message here...',\n",
    "    description='Message:',\n",
    "    layout=widgets.Layout(width='100%', height='100px')\n",
    ")\n",
    "\n",
    "# Output area to show token-label UI\n",
    "output_area = widgets.Output()\n",
    "save_button = widgets.Button(description=\"✅ Save to .conll\", button_style='success')\n",
    "reset_button = widgets.Button(description=\"🔄 Reset\", button_style='warning')\n",
    "\n",
    "# Global store for widget pairs\n",
    "token_label_widgets = []\n",
    "\n",
    "# Path to save labeled file\n",
    "conll_path = \"../data/labeled/ner_train.conll\"\n",
    "os.makedirs(os.path.dirname(conll_path), exist_ok=True)\n",
    "\n",
    "# Tokenize and create labeling widgets\n",
    "def on_text_submit(change):\n",
    "    global token_label_widgets\n",
    "    output_area.clear_output()\n",
    "    token_label_widgets = []\n",
    "    tokens = change['new'].split()\n",
    "\n",
    "    with output_area:\n",
    "        for token in tokens:\n",
    "            token_widget = widgets.Text(value=token, disabled=True)\n",
    "            label_widget = widgets.Dropdown(options=label_options, value='O')\n",
    "            hbox = widgets.HBox([token_widget, label_widget])\n",
    "            token_label_widgets.append((token_widget, label_widget))\n",
    "            display(hbox)\n",
    "        display(save_button, reset_button)\n",
    "\n",
    "# Save the tokens and labels to a .conll file\n",
    "# Format: token <space> label\n",
    "# One sentence per block, separated by a blank line\n",
    "\n",
    "def on_save_clicked(b):\n",
    "    with open(conll_path, \"a\", encoding=\"utf-8\") as f:\n",
    "        for token_widget, label_widget in token_label_widgets:\n",
    "            f.write(f\"{token_widget.value} {label_widget.value}\\n\")\n",
    "        f.write(\"\\n\")  # Add empty line after each message\n",
    "    with output_area:\n",
    "        print(\"✅ Saved to\", conll_path)\n",
    "\n",
    "# Reset input\n",
    "def on_reset_clicked(b):\n",
    "    text_input.value = \"\"\n",
    "    output_area.clear_output()\n",
    "\n",
    "# Hook up callbacks\n",
    "text_input.observe(on_text_submit, names='value')\n",
    "save_button.on_click(on_save_clicked)\n",
    "reset_button.on_click(on_reset_clicked)\n",
    "\n",
    "# Show the UI\n",
    "display(text_input, output_area)\n"
   ]
  }
 ],
 "metadata": {
  "kernelspec": {
   "display_name": "env",
   "language": "python",
   "name": "python3"
  },
  "language_info": {
   "codemirror_mode": {
    "name": "ipython",
    "version": 3
   },
   "file_extension": ".py",
   "mimetype": "text/x-python",
   "name": "python",
   "nbconvert_exporter": "python",
   "pygments_lexer": "ipython3",
   "version": "3.13.5"
  }
 },
 "nbformat": 4,
 "nbformat_minor": 5
}
