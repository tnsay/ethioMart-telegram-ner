{
 "cells": [
  {
   "cell_type": "code",
   "execution_count": null,
   "id": "04e9fded",
   "metadata": {},
   "outputs": [
    {
     "data": {
      "application/vnd.jupyter.widget-view+json": {
       "model_id": "ec22a6930ec64a0291693ec79056190b",
       "version_major": 2,
       "version_minor": 0
      },
      "text/plain": [
       "Textarea(value='', description='Message:', layout=Layout(height='100px', width='100%'), placeholder='Paste a m…"
      ]
     },
     "metadata": {},
     "output_type": "display_data"
    },
    {
     "data": {
      "application/vnd.jupyter.widget-view+json": {
       "model_id": "1afbdbe6b9db4673ad2e7f673f4d4ec7",
       "version_major": 2,
       "version_minor": 0
      },
      "text/plain": [
       "Output()"
      ]
     },
     "metadata": {},
     "output_type": "display_data"
    }
   ],
   "source": [
    "from IPython.display import display, clear_output\n",
    "import ipywidgets as widgets\n",
    "\n",
    "label_options = ['O', 'B-Product', 'I-Product', 'B-PRICE', 'I-PRICE', 'B-LOC', 'I-LOC','CONTACT_INFO']\n",
    "\n",
    "text_input = widgets.Textarea(\n",
    "    placeholder='Paste a message here...',\n",
    "    description='Message:',\n",
    "    layout=widgets.Layout(width='100%', height='100px')\n",
    ")\n",
    "output_area = widgets.Output()\n",
    "save_button = widgets.Button(description=\"Save to .conll\", button_style='success')\n",
    "reset_button = widgets.Button(description=\"Reset\", button_style='warning')\n",
    "\n",
    "token_label_widgets = []\n",
    "\n",
    "def on_text_submit(change):\n",
    "    global token_label_widgets\n",
    "    output_area.clear_output()\n",
    "    token_label_widgets = []\n",
    "    tokens = change['new'].split()\n",
    "    with output_area:\n",
    "        for token in tokens:\n",
    "            token_widget = widgets.Text(value=token, disabled=True)\n",
    "            label_widget = widgets.Dropdown(options=label_options, value='O')\n",
    "            hbox = widgets.HBox([token_widget, label_widget])\n",
    "            token_label_widgets.append((token_widget, label_widget))\n",
    "            display(hbox)\n",
    "        display(save_button, reset_button)\n",
    "\n",
    "def on_save_clicked(b):\n",
    "    with open(\"ner_train.conll\", \"a\", encoding=\"utf-8\") as f:\n",
    "        for token_widget, label_widget in token_label_widgets:\n",
    "            f.write(f\"{token_widget.value} {label_widget.value}\\n\")\n",
    "        f.write(\"\\n\")  # Separate messages\n",
    "    with output_area:\n",
    "        print(\"✅ Saved to ner_train.conll\")\n",
    "\n",
    "def on_reset_clicked(b):\n",
    "    text_input.value = \"\"\n",
    "    output_area.clear_output()\n",
    "\n",
    "text_input.observe(on_text_submit, names='value')\n",
    "save_button.on_click(on_save_clicked)\n",
    "reset_button.on_click(on_reset_clicked)\n",
    "\n",
    "display(text_input, output_area)\n"
   ]
  },
  {
   "cell_type": "code",
   "execution_count": null,
   "id": "ebcba538",
   "metadata": {},
   "outputs": [],
   "source": []
  }
 ],
 "metadata": {
  "kernelspec": {
   "display_name": "env",
   "language": "python",
   "name": "python3"
  },
  "language_info": {
   "codemirror_mode": {
    "name": "ipython",
    "version": 3
   },
   "file_extension": ".py",
   "mimetype": "text/x-python",
   "name": "python",
   "nbconvert_exporter": "python",
   "pygments_lexer": "ipython3",
   "version": "3.13.3"
  }
 },
 "nbformat": 4,
 "nbformat_minor": 5
}
